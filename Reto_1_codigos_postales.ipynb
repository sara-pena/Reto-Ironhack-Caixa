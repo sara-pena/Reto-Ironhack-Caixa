{
 "cells": [
  {
   "cell_type": "code",
   "execution_count": 27,
   "metadata": {},
   "outputs": [
    {
     "name": "stdout",
     "output_type": "stream",
     "text": [
      "segmentada = ['Distrito3', 'Distrito1', 'Distrito4', 'Distrito2', 'Distrito3', 'Distrito1', 'Distrito2', 'Distrito4']\n"
     ]
    }
   ],
   "source": [
    "#importing pandas library\n",
    "import pandas as pd\n",
    "\n",
    "#create the list named codigos_postales\n",
    "codigos_postales = [49200, 13590, 11580, 17925, 17115, 19630, 45710, 37190, 23455, 20815, 15515, 22505, 44260, 42545, 19565, 19149, 14253, 35412, \n",
    "35046, 30801, 13974, 42399, 26796, 44508, 26001, 48926, 30589, 36997, 10271, 14866, 42599, 31388, 13492, 30328, 17564, 49499, \n",
    "35116, 22289, 26048, 17299, 15271, 18029, 45196, 34294, 31507, 31429, 27506, 42271, 20894, 35707, 48484, 42479, 27148, 13732, \n",
    "49741, 14819, 22238, 34516, 20731, 36848, 22772, 37201, 38596, 48121, 23497, 11198, 16762, 16711, 26399, 18466, 27043, 48679, \n",
    "42464, 26794, 22222, 26984, 48307, 15749, 14212, 49232, 41647, 28618, 14606, 13687, 15533, 28306, 11042, 41302, 49978, 14254, \n",
    "49777, 27029, 33451, 48802, 24574, 34534, 16703, 49411, 15319, 19961]\n",
    "\n",
    "#defining the function segmentar\n",
    "\n",
    "def segmentar(codigos_postales):\n",
    "\n",
    "    # converting the list codigos_postales in a dataframe with Pandas. \n",
    "    df = pd.DataFrame (codigos_postales, columns = ['Codigo postal'])\n",
    "\n",
    "    #binning the dataframe. Assigning ranges and names for every bin \n",
    "    bins = [0, 29999, 49999, 79999, 99999,]\n",
    "    group_names = ['Distrito1', 'Distrito2', 'Distrito3', 'Distrito4']\n",
    "\n",
    "    #creating de column dfsegmentada within de dataframe\n",
    "    df['dfsegmentada'] = pd.cut(df['Codigo postal'], bins, labels = group_names)\n",
    "\n",
    "    #converting the column dfsegmentada into a list\n",
    "    segmentada = df.dfsegmentada.values.tolist()\n",
    "    \n",
    "    print(\"segmentada =\", segmentada)\n",
    "\n",
    "    \n",
    "\n",
    "#using the function segmentar on the new list codigos_postales\n",
    "\n",
    "codigos_postales = [59246, 12435, 80115, 36779, 72775, 23470, 44570, 96479]\n",
    "segmentar(codigos_postales)\n",
    "\n"
   ]
  },
  {
   "cell_type": "code",
   "execution_count": null,
   "metadata": {},
   "outputs": [],
   "source": []
  }
 ],
 "metadata": {
  "kernelspec": {
   "display_name": "Python 3",
   "language": "python",
   "name": "python3"
  },
  "language_info": {
   "codemirror_mode": {
    "name": "ipython",
    "version": 3
   },
   "file_extension": ".py",
   "mimetype": "text/x-python",
   "name": "python",
   "nbconvert_exporter": "python",
   "pygments_lexer": "ipython3",
   "version": "3.8.3"
  }
 },
 "nbformat": 4,
 "nbformat_minor": 4
}
